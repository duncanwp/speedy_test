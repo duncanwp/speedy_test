{
 "cells": [
  {
   "cell_type": "code",
   "execution_count": 1,
   "metadata": {},
   "outputs": [],
   "source": [
    "from speedy import convection"
   ]
  },
  {
   "cell_type": "code",
   "execution_count": 2,
   "metadata": {},
   "outputs": [
    {
     "name": "stdout",
     "output_type": "stream",
     "text": [
      "itop,qdif = diagnose_convection(psa,se,qa,qsat)\n",
      "\n",
      "Wrapper for ``diagnose_convection``.\n",
      "\n",
      "Parameters\n",
      "----------\n",
      "psa : input rank-2 array('d') with bounds (96,48)\n",
      "se : input rank-3 array('d') with bounds (96,48,8)\n",
      "qa : input rank-3 array('d') with bounds (96,48,8)\n",
      "qsat : input rank-3 array('d') with bounds (96,48,8)\n",
      "\n",
      "Returns\n",
      "-------\n",
      "itop : rank-2 array('i') with bounds (96,48)\n",
      "qdif : rank-2 array('d') with bounds (96,48)\n",
      "\n"
     ]
    }
   ],
   "source": [
    "print(convection.diagnose_convection.__doc__)"
   ]
  },
  {
   "cell_type": "code",
   "execution_count": 6,
   "metadata": {},
   "outputs": [
    {
     "name": "stdout",
     "output_type": "stream",
     "text": [
      "[[9 9 9 ... 9 9 9]\n",
      " [9 9 9 ... 9 9 9]\n",
      " [9 9 9 ... 9 9 9]\n",
      " ...\n",
      " [9 9 9 ... 9 9 9]\n",
      " [9 9 9 ... 9 9 9]\n",
      " [9 9 9 ... 9 9 9]]\n"
     ]
    }
   ],
   "source": [
    "import numpy as np\n",
    "\n",
    "psa= np.ones((96, 48))\n",
    "se = np.ones((96, 48, 8))\n",
    "qa = np.ones((96, 48, 8))\n",
    "qsat = np.ones((96, 48, 8))\n",
    "\n",
    "itop, qdif = convection.diagnose_convection(psa, se, qa, qsat)\n",
    "\n",
    "print(itop)"
   ]
  },
  {
   "cell_type": "code",
   "execution_count": null,
   "metadata": {},
   "outputs": [],
   "source": []
  }
 ],
 "metadata": {
  "kernelspec": {
   "display_name": "speedy",
   "language": "python",
   "name": "python3"
  },
  "language_info": {
   "codemirror_mode": {
    "name": "ipython",
    "version": 3
   },
   "file_extension": ".py",
   "mimetype": "text/x-python",
   "name": "python",
   "nbconvert_exporter": "python",
   "pygments_lexer": "ipython3",
   "version": "3.11.9"
  }
 },
 "nbformat": 4,
 "nbformat_minor": 2
}
